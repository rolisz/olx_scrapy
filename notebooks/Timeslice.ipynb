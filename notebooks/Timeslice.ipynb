{
 "cells": [
  {
   "cell_type": "code",
   "execution_count": 1,
   "metadata": {},
   "outputs": [],
   "source": [
    "import pandas as pd\n",
    "import matplotlib.pyplot as plt\n",
    "from housing_utils import read_housing\n",
    "import sqlite3"
   ]
  },
  {
   "cell_type": "code",
   "execution_count": 16,
   "metadata": {},
   "outputs": [
    {
     "name": "stdout",
     "output_type": "stream",
     "text": [
      "Reading 1\n",
      "Reading 2\n",
      "Reading 3\n",
      "Reading 4\n",
      "Reading 5\n",
      "Reading 6\n",
      "Reading 7\n",
      "Reading 8\n",
      "Reading 9\n",
      "Reading 10\n",
      "Reading 11\n",
      "Reading 12\n",
      "Reading 13\n",
      "Reading 14\n",
      "Reading 15\n",
      "Reading 16\n",
      "Reading 17\n",
      "Reading 18\n",
      "Reading 19\n",
      "Reading 20\n",
      "Reading 21\n",
      "Reading 22\n"
     ]
    }
   ],
   "source": [
    "l = []\n",
    "for i in range(1, 23):\n",
    "    print(\"Reading %d\" % i)\n",
    "    l.append(read_housing(\"../olx/houses%d.jl\" % i))\n"
   ]
  },
  {
   "cell_type": "code",
   "execution_count": 17,
   "metadata": {},
   "outputs": [],
   "source": [
    "ids = [set(x for x in e[\"nr_anunt\"]) for e in l]\n",
    "dates = [e[\"date\"][0] for e in l]"
   ]
  },
  {
   "cell_type": "code",
   "execution_count": 18,
   "metadata": {},
   "outputs": [
    {
     "data": {
      "text/plain": [
       "2461"
      ]
     },
     "execution_count": 18,
     "metadata": {},
     "output_type": "execute_result"
    }
   ],
   "source": [
    "len(ids[0].intersection(ids[1]))"
   ]
  },
  {
   "cell_type": "code",
   "execution_count": 19,
   "metadata": {},
   "outputs": [
    {
     "name": "stdout",
     "output_type": "stream",
     "text": [
      "Size of set 0: 2551\n",
      "Size of set 0 intersected with 0: 2551\n",
      "Size of set 0 intersected with 1: 2461\n",
      "Size of set 0 intersected with 2: 2390\n",
      "Size of set 0 intersected with 3: 2345\n",
      "Size of set 0 intersected with 4: 2300\n",
      "Size of set 0 intersected with 5: 2268\n",
      "Size of set 0 intersected with 6: 2220\n",
      "Size of set 0 intersected with 7: 2170\n",
      "Size of set 0 intersected with 8: 2122\n",
      "Size of set 0 intersected with 9: 2038\n",
      "Size of set 0 intersected with 10: 2003\n",
      "Size of set 0 intersected with 11: 1985\n",
      "Size of set 0 intersected with 12: 1957\n",
      "Size of set 0 intersected with 13: 1915\n",
      "Size of set 0 intersected with 14: 1871\n",
      "Size of set 0 intersected with 15: 1842\n",
      "Size of set 0 intersected with 16: 1814\n",
      "Size of set 0 intersected with 17: 1800\n",
      "Size of set 0 intersected with 18: 1769\n",
      "Size of set 0 intersected with 19: 1729\n",
      "Size of set 0 intersected with 20: 1702\n",
      "Size of set 0 intersected with 21: 1671\n"
     ]
    }
   ],
   "source": [
    "diffs = []\n",
    "for i in range(1):\n",
    "    print(\"Size of set %d: %d\" % (i, len(ids[i])))\n",
    "    for j in range(len(ids)):\n",
    "        intersect = ids[i].intersection(ids[j])\n",
    "        diffs.append(len(intersect))\n",
    "        print(\"Size of set %d intersected with %d: %d\" % (i, j, len(intersect)))\n",
    "        "
   ]
  },
  {
   "cell_type": "code",
   "execution_count": 20,
   "metadata": {},
   "outputs": [
    {
     "name": "stdout",
     "output_type": "stream",
     "text": [
      "Size of set 0: 2551\n",
      "New in set 1 compared to 0: 102\n",
      "Size of set 1: 2563\n",
      "New in set 2 compared to 1: 57\n",
      "Size of set 2: 2535\n",
      "New in set 3 compared to 2: 42\n",
      "Size of set 3: 2517\n",
      "New in set 4 compared to 3: 83\n",
      "Size of set 4: 2536\n",
      "New in set 5 compared to 4: 75\n",
      "Size of set 5: 2550\n",
      "New in set 6 compared to 5: 94\n",
      "Size of set 6: 2564\n",
      "New in set 7 compared to 6: 52\n",
      "Size of set 7: 2550\n",
      "New in set 8 compared to 7: 101\n",
      "Size of set 8: 2572\n",
      "New in set 9 compared to 8: 85\n",
      "Size of set 9: 2542\n",
      "New in set 10 compared to 9: 75\n",
      "Size of set 10: 2542\n",
      "New in set 11 compared to 10: 128\n",
      "Size of set 11: 2585\n",
      "New in set 12 compared to 11: 100\n",
      "Size of set 12: 2611\n",
      "New in set 13 compared to 12: 87\n",
      "Size of set 13: 2617\n",
      "New in set 14 compared to 13: 93\n",
      "Size of set 14: 2622\n",
      "New in set 15 compared to 14: 65\n",
      "Size of set 15: 2624\n",
      "New in set 16 compared to 15: 48\n",
      "Size of set 16: 2620\n",
      "New in set 17 compared to 16: 48\n",
      "Size of set 17: 2626\n",
      "New in set 18 compared to 17: 203\n",
      "Size of set 18: 2700\n",
      "New in set 19 compared to 18: 80\n",
      "Size of set 19: 2694\n",
      "New in set 20 compared to 19: 76\n",
      "Size of set 20: 2697\n",
      "New in set 21 compared to 20: 74\n"
     ]
    }
   ],
   "source": [
    "news = []\n",
    "for i in range(len(ids)-1):\n",
    "    print(\"Size of set %d: %d\" % (i, len(ids[i])))\n",
    "    n = ids[i+1].difference(ids[i])\n",
    "    print(\"New in set %d compared to %d: %d\" % (i+1, i, len(n)))\n",
    "    news.append(len(n))"
   ]
  },
  {
   "cell_type": "code",
   "execution_count": 21,
   "metadata": {},
   "outputs": [
    {
     "data": {
      "text/plain": [
       "(736730.85, 736756.15, 1, 2595.0)"
      ]
     },
     "execution_count": 21,
     "metadata": {},
     "output_type": "execute_result"
    },
    {
     "data": {
      "image/png": "[encoded data removed]",
      "text/plain": [
       "<matplotlib.figure.Figure at 0x7f70552e1e80>"
      ]
     },
     "metadata": {},
     "output_type": "display_data"
    }
   ],
   "source": [
    "plt.plot(dates, diffs)\n",
    "plt.axis(ymin=1)"
   ]
  },
  {
   "cell_type": "code",
   "execution_count": 22,
   "metadata": {},
   "outputs": [
    {
     "data": {
      "text/plain": [
       "[<matplotlib.lines.Line2D at 0x7f705a981cc0>]"
      ]
     },
     "execution_count": 22,
     "metadata": {},
     "output_type": "execute_result"
    },
    {
     "data": {
      "image/png": "[encoded data removed]",
      "text/plain": [
       "<matplotlib.figure.Figure at 0x7f705ab4ceb8>"
      ]
     },
     "metadata": {},
     "output_type": "display_data"
    }
   ],
   "source": [
    "plt.plot(dates[1:], news)"
   ]
  },
  {
   "cell_type": "code",
   "execution_count": 23,
   "metadata": {},
   "outputs": [
    {
     "data": {
      "text/plain": [
       "1768"
      ]
     },
     "execution_count": 23,
     "metadata": {},
     "output_type": "execute_result"
    }
   ],
   "source": [
    "sum(news)"
   ]
  },
  {
   "cell_type": "code",
   "execution_count": 24,
   "metadata": {},
   "outputs": [],
   "source": [
    "e = l[3]"
   ]
  },
  {
   "cell_type": "code",
   "execution_count": 25,
   "metadata": {},
   "outputs": [
    {
     "data": {
      "text/html": [
       "<div>\n",
       "<style scoped>\n",
       "    .dataframe tbody tr th:only-of-type {\n",
       "        vertical-align: middle;\n",
       "    }\n",
       "\n",
       "    .dataframe tbody tr th {\n",
       "        vertical-align: top;\n",
       "    }\n",
       "\n",
       "    .dataframe thead th {\n",
       "        text-align: right;\n",
       "    }\n",
       "</style>\n",
       "<table border=\"1\" class=\"dataframe\">\n",
       "  <thead>\n",
       "    <tr style=\"text-align: right;\">\n",
       "      <th></th>\n",
       "      <th>An constructie</th>\n",
       "      <th>Camere</th>\n",
       "      <th>Compartimentare</th>\n",
       "      <th>Etaj</th>\n",
       "      <th>Locuinta mobilata / utilata</th>\n",
       "      <th>Oferit de</th>\n",
       "      <th>Suprafata utila</th>\n",
       "      <th>adaugat_la</th>\n",
       "      <th>date</th>\n",
       "      <th>nr_anunt</th>\n",
       "      <th>price</th>\n",
       "      <th>text</th>\n",
       "      <th>title</th>\n",
       "      <th>type</th>\n",
       "      <th>url</th>\n",
       "    </tr>\n",
       "  </thead>\n",
       "  <tbody>\n",
       "    <tr>\n",
       "      <th>0</th>\n",
       "      <td>NaN</td>\n",
       "      <td>4 sau mai multe</td>\n",
       "      <td>NaN</td>\n",
       "      <td>NaN</td>\n",
       "      <td>NaN</td>\n",
       "      <td>Agentie</td>\n",
       "      <td>270 m²</td>\n",
       "      <td></td>\n",
       "      <td>2018-02-10</td>\n",
       "      <td>133148417</td>\n",
       "      <td>65500.0</td>\n",
       "      <td>Casa bine amplasata in Bors pe un teren extrem...</td>\n",
       "      <td>Casa  270 mp Utili teren dublu front stradal 1...</td>\n",
       "      <td>Case de vanzare Oradea</td>\n",
       "      <td>https://www.olx.ro/oferta/casa-270-mp-utili-te...</td>\n",
       "    </tr>\n",
       "    <tr>\n",
       "      <th>1</th>\n",
       "      <td>NaN</td>\n",
       "      <td>3 camere</td>\n",
       "      <td>NaN</td>\n",
       "      <td>NaN</td>\n",
       "      <td>Nemobilata / neutilata</td>\n",
       "      <td>Proprietar</td>\n",
       "      <td>500 m²</td>\n",
       "      <td></td>\n",
       "      <td>2018-02-10</td>\n",
       "      <td>138811457</td>\n",
       "      <td>87000.0</td>\n",
       "      <td>Vind casa strada ronald regan zona horea parc ...</td>\n",
       "      <td>Vind casa</td>\n",
       "      <td>Case de vanzare Oradea</td>\n",
       "      <td>https://www.olx.ro/oferta/vind-casa-ID9orct.html</td>\n",
       "    </tr>\n",
       "    <tr>\n",
       "      <th>2</th>\n",
       "      <td>NaN</td>\n",
       "      <td>3 camere</td>\n",
       "      <td>NaN</td>\n",
       "      <td>NaN</td>\n",
       "      <td>NaN</td>\n",
       "      <td>Agentie</td>\n",
       "      <td>76 m²</td>\n",
       "      <td></td>\n",
       "      <td>2018-02-10</td>\n",
       "      <td>152891235</td>\n",
       "      <td>145000.0</td>\n",
       "      <td>RE/MAX Family va propune spre vanzare in mod e...</td>\n",
       "      <td>Casă  cu 3 camere zona Central</td>\n",
       "      <td>Case de vanzare Oradea</td>\n",
       "      <td>https://www.olx.ro/oferta/casa-cu-3-camere-zon...</td>\n",
       "    </tr>\n",
       "    <tr>\n",
       "      <th>3</th>\n",
       "      <td>NaN</td>\n",
       "      <td>4 sau mai multe</td>\n",
       "      <td>NaN</td>\n",
       "      <td>NaN</td>\n",
       "      <td>NaN</td>\n",
       "      <td>Proprietar</td>\n",
       "      <td>NaN</td>\n",
       "      <td></td>\n",
       "      <td>2018-02-10</td>\n",
       "      <td>149056683</td>\n",
       "      <td>89000.0</td>\n",
       "      <td>Teren 521 m patrati, casa are 131 m parati con...</td>\n",
       "      <td>Casa de vanzare sanmartin</td>\n",
       "      <td>Case de vanzare Oradea</td>\n",
       "      <td>https://www.olx.ro/oferta/casa-de-vanzare-sanm...</td>\n",
       "    </tr>\n",
       "    <tr>\n",
       "      <th>4</th>\n",
       "      <td>NaN</td>\n",
       "      <td>3 camere</td>\n",
       "      <td>NaN</td>\n",
       "      <td>NaN</td>\n",
       "      <td>Nemobilata / neutilata</td>\n",
       "      <td>Proprietar</td>\n",
       "      <td>150 m²</td>\n",
       "      <td></td>\n",
       "      <td>2018-02-10</td>\n",
       "      <td>140234985</td>\n",
       "      <td>23000.0</td>\n",
       "      <td>vand casa in sat Corbesti 150 metri patrati pl...</td>\n",
       "      <td>Casa plus teren 2.5ha langa casa</td>\n",
       "      <td>Case de vanzare Oradea</td>\n",
       "      <td>https://www.olx.ro/oferta/casa-plus-teren-2-5h...</td>\n",
       "    </tr>\n",
       "  </tbody>\n",
       "</table>\n",
       "</div>"
      ],
      "text/plain": [
       "  An constructie           Camere Compartimentare Etaj  \\\n",
       "0            NaN  4 sau mai multe             NaN  NaN   \n",
       "1            NaN         3 camere             NaN  NaN   \n",
       "2            NaN         3 camere             NaN  NaN   \n",
       "3            NaN  4 sau mai multe             NaN  NaN   \n",
       "4            NaN         3 camere             NaN  NaN   \n",
       "\n",
       "  Locuinta mobilata / utilata   Oferit de Suprafata utila adaugat_la  \\\n",
       "0                         NaN     Agentie          270 m²              \n",
       "1      Nemobilata / neutilata  Proprietar          500 m²              \n",
       "2                         NaN     Agentie           76 m²              \n",
       "3                         NaN  Proprietar             NaN              \n",
       "4      Nemobilata / neutilata  Proprietar          150 m²              \n",
       "\n",
       "        date   nr_anunt     price  \\\n",
       "0 2018-02-10  133148417   65500.0   \n",
       "1 2018-02-10  138811457   87000.0   \n",
       "2 2018-02-10  152891235  145000.0   \n",
       "3 2018-02-10  149056683   89000.0   \n",
       "4 2018-02-10  140234985   23000.0   \n",
       "\n",
       "                                                text  \\\n",
       "0  Casa bine amplasata in Bors pe un teren extrem...   \n",
       "1  Vind casa strada ronald regan zona horea parc ...   \n",
       "2  RE/MAX Family va propune spre vanzare in mod e...   \n",
       "3  Teren 521 m patrati, casa are 131 m parati con...   \n",
       "4  vand casa in sat Corbesti 150 metri patrati pl...   \n",
       "\n",
       "                                               title                    type  \\\n",
       "0  Casa  270 mp Utili teren dublu front stradal 1...  Case de vanzare Oradea   \n",
       "1                                          Vind casa  Case de vanzare Oradea   \n",
       "2                     Casă  cu 3 camere zona Central  Case de vanzare Oradea   \n",
       "3                          Casa de vanzare sanmartin  Case de vanzare Oradea   \n",
       "4                   Casa plus teren 2.5ha langa casa  Case de vanzare Oradea   \n",
       "\n",
       "                                                 url  \n",
       "0  https://www.olx.ro/oferta/casa-270-mp-utili-te...  \n",
       "1   https://www.olx.ro/oferta/vind-casa-ID9orct.html  \n",
       "2  https://www.olx.ro/oferta/casa-cu-3-camere-zon...  \n",
       "3  https://www.olx.ro/oferta/casa-de-vanzare-sanm...  \n",
       "4  https://www.olx.ro/oferta/casa-plus-teren-2-5h...  "
      ]
     },
     "execution_count": 25,
     "metadata": {},
     "output_type": "execute_result"
    }
   ],
   "source": [
    "e.head()"
   ]
  },
  {
   "cell_type": "code",
   "execution_count": 26,
   "metadata": {},
   "outputs": [
    {
     "name": "stderr",
     "output_type": "stream",
     "text": [
      "/home/rolisz/.local/share/virtualenvs/housing-73v4RTTc/lib/python3.5/site-packages/pandas/core/generic.py:1534: UserWarning: The spaces in these column names will not be changed. In pandas versions < 0.14, spaces were converted to underscores.\n",
      "  chunksize=chunksize, dtype=dtype)\n"
     ]
    }
   ],
   "source": [
    "for e in l:\n",
    "    e.to_sql(\"olx_houses\", sqlite3.connect(\"./olx_houses.db\"), if_exists='append')"
   ]
  },
  {
   "cell_type": "code",
   "execution_count": null,
   "metadata": {},
   "outputs": [],
   "source": []
  },
  {
   "cell_type": "markdown",
   "metadata": {},
   "source": [
    "SQL Queries\n",
    "======\n",
    "\n",
    "Consecutive day diffs:\n",
    "SELECT olx_houses.date, oh.date, COUNT(*) FROM olx_houses JOIN olx_houses as oh ON olx_houses.nr_anunt = oh.nr_anunt WHERE olx_houses.date = \"2018-02-07 00:00:00\" group by olx_houses.date, oh.date; \n",
    "\n",
    "Sum of new ones:\n",
    "\n",
    "\n"
   ]
  }
 ],
 "metadata": {
  "kernelspec": {
   "display_name": "Python 3",
   "language": "python",
   "name": "python3"
  },
  "language_info": {
   "codemirror_mode": {
    "name": "ipython",
    "version": 3
   },
   "file_extension": ".py",
   "mimetype": "text/x-python",
   "name": "python",
   "nbconvert_exporter": "python",
   "pygments_lexer": "ipython3",
   "version": "3.5.2"
  }
 },
 "nbformat": 4,
 "nbformat_minor": 2
}
