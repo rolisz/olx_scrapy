{
 "cells": [
  {
   "cell_type": "code",
   "execution_count": 1,
   "metadata": {},
   "outputs": [
    {
     "name": "stderr",
     "output_type": "stream",
     "text": [
      "/home/rolisz/.local/share/virtualenvs/olx_scrapy-aYPf9owV/lib/python3.5/importlib/_bootstrap.py:222: RuntimeWarning: numpy.dtype size changed, may indicate binary incompatibility. Expected 96, got 88\n",
      "  return f(*args, **kwds)\n",
      "/home/rolisz/.local/share/virtualenvs/olx_scrapy-aYPf9owV/lib/python3.5/importlib/_bootstrap.py:222: RuntimeWarning: numpy.dtype size changed, may indicate binary incompatibility. Expected 96, got 88\n",
      "  return f(*args, **kwds)\n",
      "/home/rolisz/.local/share/virtualenvs/olx_scrapy-aYPf9owV/lib/python3.5/importlib/_bootstrap.py:222: RuntimeWarning: numpy.dtype size changed, may indicate binary incompatibility. Expected 96, got 88\n",
      "  return f(*args, **kwds)\n"
     ]
    }
   ],
   "source": [
    "import pandas as pd\n",
    "import fastkml\n",
    "import geopy\n",
    "import shapely\n",
    "import matplotlib \n",
    "import seaborn as sns\n",
    "import matplotlib.pyplot as plt\n",
    "sns.set(style='white') \n",
    "%matplotlib inline"
   ]
  },
  {
   "cell_type": "code",
   "execution_count": 30,
   "metadata": {},
   "outputs": [],
   "source": [
    "pd.set_option('display.max_rows', None)\n",
    "pd.set_option('display.max_columns', None)\n",
    "pd.set_option('max_colwidth', 1000)\n",
    "pd.set_option('expand_frame_repr', False)  # more options can be specified also"
   ]
  },
  {
   "cell_type": "code",
   "execution_count": 4,
   "metadata": {},
   "outputs": [],
   "source": [
    "data = pd.read_csv(\"annot_houses.csv\")\n",
    "data = data.drop(columns=[\"type\"])\n",
    "data = data.set_index(\"Unnamed: 0\")"
   ]
  },
  {
   "cell_type": "code",
   "execution_count": 53,
   "metadata": {},
   "outputs": [
    {
     "data": {
      "text/html": [
       "<div>\n",
       "<style scoped>\n",
       "    .dataframe tbody tr th:only-of-type {\n",
       "        vertical-align: middle;\n",
       "    }\n",
       "\n",
       "    .dataframe tbody tr th {\n",
       "        vertical-align: top;\n",
       "    }\n",
       "\n",
       "    .dataframe thead th {\n",
       "        text-align: right;\n",
       "    }\n",
       "</style>\n",
       "<table border=\"1\" class=\"dataframe\">\n",
       "  <thead>\n",
       "    <tr style=\"text-align: right;\">\n",
       "      <th></th>\n",
       "      <th>nr_anunt</th>\n",
       "      <th>An constructie</th>\n",
       "      <th>Camere</th>\n",
       "      <th>Locuinta mobilata / utilata</th>\n",
       "      <th>Oferit de</th>\n",
       "      <th>Suprafata utila</th>\n",
       "      <th>date</th>\n",
       "      <th>price</th>\n",
       "      <th>text</th>\n",
       "      <th>title</th>\n",
       "      <th>url</th>\n",
       "      <th>CohortGroup</th>\n",
       "      <th>city inf</th>\n",
       "      <th>str inf</th>\n",
       "      <th>neighb inf</th>\n",
       "    </tr>\n",
       "    <tr>\n",
       "      <th>Unnamed: 0</th>\n",
       "      <th></th>\n",
       "      <th></th>\n",
       "      <th></th>\n",
       "      <th></th>\n",
       "      <th></th>\n",
       "      <th></th>\n",
       "      <th></th>\n",
       "      <th></th>\n",
       "      <th></th>\n",
       "      <th></th>\n",
       "      <th></th>\n",
       "      <th></th>\n",
       "      <th></th>\n",
       "      <th></th>\n",
       "      <th></th>\n",
       "    </tr>\n",
       "  </thead>\n",
       "  <tbody>\n",
       "    <tr>\n",
       "      <th>11884</th>\n",
       "      <td>143203341</td>\n",
       "      <td>NaN</td>\n",
       "      <td>3 camere</td>\n",
       "      <td>NaN</td>\n",
       "      <td>Proprietar</td>\n",
       "      <td>140 m²</td>\n",
       "      <td>2018-02-28</td>\n",
       "      <td>55000€</td>\n",
       "      <td>Casa noua la cheie in cartier Tineretului , zona buna , usor accesibila din strada Clujului la 200 m de asfalt.</td>\n",
       "      <td>Vand Casa la cheie -teren 500mp</td>\n",
       "      <td>https://www.olx.ro/oferta/vand-casa-la-cheie-teren-500mp-ID9GRJj.html</td>\n",
       "      <td>2018-02-28</td>\n",
       "      <td>NaN</td>\n",
       "      <td>strada Clujului</td>\n",
       "      <td>tineretului</td>\n",
       "    </tr>\n",
       "    <tr>\n",
       "      <th>12437</th>\n",
       "      <td>143203341</td>\n",
       "      <td>NaN</td>\n",
       "      <td>3 camere</td>\n",
       "      <td>NaN</td>\n",
       "      <td>Proprietar</td>\n",
       "      <td>140 m²</td>\n",
       "      <td>2018-03-01</td>\n",
       "      <td>55000€</td>\n",
       "      <td>Casa noua la cheie in cartier Tineretului , zona buna , usor accesibila din strada Clujului la 200 m de asfalt.</td>\n",
       "      <td>Vand Casa la cheie -teren 500mp</td>\n",
       "      <td>https://www.olx.ro/oferta/vand-casa-la-cheie-teren-500mp-ID9GRJj.html</td>\n",
       "      <td>2018-02-28</td>\n",
       "      <td>NaN</td>\n",
       "      <td>strada Clujului</td>\n",
       "      <td>tineretului</td>\n",
       "    </tr>\n",
       "    <tr>\n",
       "      <th>13379</th>\n",
       "      <td>143203341</td>\n",
       "      <td>NaN</td>\n",
       "      <td>3 camere</td>\n",
       "      <td>NaN</td>\n",
       "      <td>Proprietar</td>\n",
       "      <td>140 m²</td>\n",
       "      <td>2018-03-02</td>\n",
       "      <td>55000€</td>\n",
       "      <td>Casa noua la cheie in cartier Tineretului , zona buna , usor accesibila din strada Clujului la 200 m de asfalt.</td>\n",
       "      <td>Vand Casa la cheie -teren 500mp</td>\n",
       "      <td>https://www.olx.ro/oferta/vand-casa-la-cheie-teren-500mp-ID9GRJj.html</td>\n",
       "      <td>2018-02-28</td>\n",
       "      <td>NaN</td>\n",
       "      <td>strada Clujului</td>\n",
       "      <td>tineretului</td>\n",
       "    </tr>\n",
       "    <tr>\n",
       "      <th>14643</th>\n",
       "      <td>143203341</td>\n",
       "      <td>NaN</td>\n",
       "      <td>3 camere</td>\n",
       "      <td>NaN</td>\n",
       "      <td>Proprietar</td>\n",
       "      <td>140 m²</td>\n",
       "      <td>2018-03-04</td>\n",
       "      <td>55000€</td>\n",
       "      <td>Casa noua la cheie in cartier Tineretului , zona buna , usor accesibila din strada Clujului la 200 m de asfalt.</td>\n",
       "      <td>Vand Casa la cheie -teren 500mp</td>\n",
       "      <td>https://www.olx.ro/oferta/vand-casa-la-cheie-teren-500mp-ID9GRJj.html</td>\n",
       "      <td>2018-02-28</td>\n",
       "      <td>NaN</td>\n",
       "      <td>strada Clujului</td>\n",
       "      <td>tineretului</td>\n",
       "    </tr>\n",
       "    <tr>\n",
       "      <th>15311</th>\n",
       "      <td>143203341</td>\n",
       "      <td>NaN</td>\n",
       "      <td>3 camere</td>\n",
       "      <td>NaN</td>\n",
       "      <td>Proprietar</td>\n",
       "      <td>140 m²</td>\n",
       "      <td>2018-03-05</td>\n",
       "      <td>55000€</td>\n",
       "      <td>Casa noua la cheie in cartier Tineretului , zona buna , usor accesibila din strada Clujului la 200 m de asfalt.</td>\n",
       "      <td>Vand Casa la cheie -teren 500mp</td>\n",
       "      <td>https://www.olx.ro/oferta/vand-casa-la-cheie-teren-500mp-ID9GRJj.html</td>\n",
       "      <td>2018-02-28</td>\n",
       "      <td>NaN</td>\n",
       "      <td>strada Clujului</td>\n",
       "      <td>tineretului</td>\n",
       "    </tr>\n",
       "    <tr>\n",
       "      <th>16462</th>\n",
       "      <td>143203341</td>\n",
       "      <td>NaN</td>\n",
       "      <td>3 camere</td>\n",
       "      <td>NaN</td>\n",
       "      <td>Proprietar</td>\n",
       "      <td>140 m²</td>\n",
       "      <td>2018-03-07</td>\n",
       "      <td>55000€</td>\n",
       "      <td>Casa noua la cheie in cartier Tineretului , zona buna , usor accesibila din strada Clujului la 200 m de asfalt.</td>\n",
       "      <td>Vand Casa la cheie -teren 500mp</td>\n",
       "      <td>https://www.olx.ro/oferta/vand-casa-la-cheie-teren-500mp-ID9GRJj.html</td>\n",
       "      <td>2018-02-28</td>\n",
       "      <td>NaN</td>\n",
       "      <td>strada Clujului</td>\n",
       "      <td>tineretului</td>\n",
       "    </tr>\n",
       "    <tr>\n",
       "      <th>17165</th>\n",
       "      <td>143203341</td>\n",
       "      <td>NaN</td>\n",
       "      <td>3 camere</td>\n",
       "      <td>NaN</td>\n",
       "      <td>Proprietar</td>\n",
       "      <td>140 m²</td>\n",
       "      <td>2018-03-08</td>\n",
       "      <td>55000€</td>\n",
       "      <td>Casa noua la cheie in cartier Tineretului , zona buna , usor accesibila din strada Clujului la 200 m de asfalt.</td>\n",
       "      <td>Vand Casa la cheie -teren 500mp</td>\n",
       "      <td>https://www.olx.ro/oferta/vand-casa-la-cheie-teren-500mp-ID9GRJj.html</td>\n",
       "      <td>2018-02-28</td>\n",
       "      <td>NaN</td>\n",
       "      <td>strada Clujului</td>\n",
       "      <td>tineretului</td>\n",
       "    </tr>\n",
       "    <tr>\n",
       "      <th>18306</th>\n",
       "      <td>143203341</td>\n",
       "      <td>NaN</td>\n",
       "      <td>3 camere</td>\n",
       "      <td>NaN</td>\n",
       "      <td>Proprietar</td>\n",
       "      <td>140 m²</td>\n",
       "      <td>2018-03-09</td>\n",
       "      <td>55000€</td>\n",
       "      <td>Casa noua la cheie in cartier Tineretului , zona buna , usor accesibila din strada Clujului la 200 m de asfalt.</td>\n",
       "      <td>Vand Casa la cheie -teren 500mp</td>\n",
       "      <td>https://www.olx.ro/oferta/vand-casa-la-cheie-teren-500mp-ID9GRJj.html</td>\n",
       "      <td>2018-02-28</td>\n",
       "      <td>NaN</td>\n",
       "      <td>strada Clujului</td>\n",
       "      <td>tineretului</td>\n",
       "    </tr>\n",
       "    <tr>\n",
       "      <th>19119</th>\n",
       "      <td>143203341</td>\n",
       "      <td>NaN</td>\n",
       "      <td>3 camere</td>\n",
       "      <td>NaN</td>\n",
       "      <td>Proprietar</td>\n",
       "      <td>140 m²</td>\n",
       "      <td>2018-03-10</td>\n",
       "      <td>55000€</td>\n",
       "      <td>Casa noua la cheie in cartier Tineretului , zona buna , usor accesibila din strada Clujului la 200 m de asfalt.</td>\n",
       "      <td>Vand Casa la cheie -teren 500mp</td>\n",
       "      <td>https://www.olx.ro/oferta/vand-casa-la-cheie-teren-500mp-ID9GRJj.html</td>\n",
       "      <td>2018-02-28</td>\n",
       "      <td>NaN</td>\n",
       "      <td>strada Clujului</td>\n",
       "      <td>tineretului</td>\n",
       "    </tr>\n",
       "    <tr>\n",
       "      <th>19889</th>\n",
       "      <td>143203341</td>\n",
       "      <td>NaN</td>\n",
       "      <td>3 camere</td>\n",
       "      <td>NaN</td>\n",
       "      <td>Proprietar</td>\n",
       "      <td>140 m²</td>\n",
       "      <td>2018-03-11</td>\n",
       "      <td>55000€</td>\n",
       "      <td>Casa noua la cheie in cartier Tineretului , zona buna , usor accesibila din strada Clujului la 200 m de asfalt.</td>\n",
       "      <td>Vand Casa la cheie -teren 500mp</td>\n",
       "      <td>https://www.olx.ro/oferta/vand-casa-la-cheie-teren-500mp-ID9GRJj.html</td>\n",
       "      <td>2018-02-28</td>\n",
       "      <td>NaN</td>\n",
       "      <td>strada Clujului</td>\n",
       "      <td>tineretului</td>\n",
       "    </tr>\n",
       "    <tr>\n",
       "      <th>63695</th>\n",
       "      <td>143203341</td>\n",
       "      <td>NaN</td>\n",
       "      <td>3 camere</td>\n",
       "      <td>NaN</td>\n",
       "      <td>Proprietar</td>\n",
       "      <td>140 m²</td>\n",
       "      <td>2018-05-15</td>\n",
       "      <td>55000€</td>\n",
       "      <td>Casa noua la cheie in cartier Tineretului , zona buna , usor accesibila din strada Clujului la 200 m de asfalt.</td>\n",
       "      <td>Vand Casa la cheie -teren 500mp</td>\n",
       "      <td>https://www.olx.ro/oferta/vand-casa-la-cheie-teren-500mp-ID9GRJj.html</td>\n",
       "      <td>2018-02-28</td>\n",
       "      <td>NaN</td>\n",
       "      <td>strada Clujului</td>\n",
       "      <td>tineretului</td>\n",
       "    </tr>\n",
       "    <tr>\n",
       "      <th>64646</th>\n",
       "      <td>143203341</td>\n",
       "      <td>NaN</td>\n",
       "      <td>3 camere</td>\n",
       "      <td>NaN</td>\n",
       "      <td>Proprietar</td>\n",
       "      <td>140 m²</td>\n",
       "      <td>2018-05-16</td>\n",
       "      <td>55000€</td>\n",
       "      <td>Casa noua la cheie in cartier Tineretului , zona buna , usor accesibila din strada Clujului la 200 m de asfalt.</td>\n",
       "      <td>Vand Casa la cheie -teren 500mp</td>\n",
       "      <td>https://www.olx.ro/oferta/vand-casa-la-cheie-teren-500mp-ID9GRJj.html</td>\n",
       "      <td>2018-02-28</td>\n",
       "      <td>NaN</td>\n",
       "      <td>strada Clujului</td>\n",
       "      <td>tineretului</td>\n",
       "    </tr>\n",
       "    <tr>\n",
       "      <th>65866</th>\n",
       "      <td>143203341</td>\n",
       "      <td>NaN</td>\n",
       "      <td>3 camere</td>\n",
       "      <td>NaN</td>\n",
       "      <td>Proprietar</td>\n",
       "      <td>140 m²</td>\n",
       "      <td>2018-05-17</td>\n",
       "      <td>55000€</td>\n",
       "      <td>Casa noua la cheie in cartier Tineretului , zona buna , usor accesibila din strada Clujului la 200 m de asfalt.</td>\n",
       "      <td>Vand Casa la cheie -teren 500mp</td>\n",
       "      <td>https://www.olx.ro/oferta/vand-casa-la-cheie-teren-500mp-ID9GRJj.html</td>\n",
       "      <td>2018-02-28</td>\n",
       "      <td>NaN</td>\n",
       "      <td>strada Clujului</td>\n",
       "      <td>tineretului</td>\n",
       "    </tr>\n",
       "    <tr>\n",
       "      <th>66942</th>\n",
       "      <td>143203341</td>\n",
       "      <td>NaN</td>\n",
       "      <td>3 camere</td>\n",
       "      <td>NaN</td>\n",
       "      <td>Proprietar</td>\n",
       "      <td>140 m²</td>\n",
       "      <td>2018-05-18</td>\n",
       "      <td>55000€</td>\n",
       "      <td>Casa noua la cheie in cartier Tineretului , zona buna , usor accesibila din strada Clujului la 200 m de asfalt.</td>\n",
       "      <td>Vand Casa la cheie -teren 500mp</td>\n",
       "      <td>https://www.olx.ro/oferta/vand-casa-la-cheie-teren-500mp-ID9GRJj.html</td>\n",
       "      <td>2018-02-28</td>\n",
       "      <td>NaN</td>\n",
       "      <td>strada Clujului</td>\n",
       "      <td>tineretului</td>\n",
       "    </tr>\n",
       "    <tr>\n",
       "      <th>68699</th>\n",
       "      <td>143203341</td>\n",
       "      <td>NaN</td>\n",
       "      <td>3 camere</td>\n",
       "      <td>NaN</td>\n",
       "      <td>Proprietar</td>\n",
       "      <td>140 m²</td>\n",
       "      <td>2018-05-20</td>\n",
       "      <td>55000€</td>\n",
       "      <td>Casa noua la cheie in cartier Tineretului , zona buna , usor accesibila din strada Clujului la 200 m de asfalt.</td>\n",
       "      <td>Vand Casa la cheie -teren 500mp</td>\n",
       "      <td>https://www.olx.ro/oferta/vand-casa-la-cheie-teren-500mp-ID9GRJj.html</td>\n",
       "      <td>2018-02-28</td>\n",
       "      <td>NaN</td>\n",
       "      <td>strada Clujului</td>\n",
       "      <td>tineretului</td>\n",
       "    </tr>\n",
       "    <tr>\n",
       "      <th>69616</th>\n",
       "      <td>143203341</td>\n",
       "      <td>NaN</td>\n",
       "      <td>3 camere</td>\n",
       "      <td>NaN</td>\n",
       "      <td>Proprietar</td>\n",
       "      <td>140 m²</td>\n",
       "      <td>2018-05-22</td>\n",
       "      <td>55000€</td>\n",
       "      <td>Casa noua la cheie in cartier Tineretului , zona buna , usor accesibila din strada Clujului la 200 m de asfalt.</td>\n",
       "      <td>Vand Casa la cheie -teren 500mp</td>\n",
       "      <td>https://www.olx.ro/oferta/vand-casa-la-cheie-teren-500mp-ID9GRJj.html</td>\n",
       "      <td>2018-02-28</td>\n",
       "      <td>NaN</td>\n",
       "      <td>strada Clujului</td>\n",
       "      <td>tineretului</td>\n",
       "    </tr>\n",
       "    <tr>\n",
       "      <th>70153</th>\n",
       "      <td>143203341</td>\n",
       "      <td>NaN</td>\n",
       "      <td>3 camere</td>\n",
       "      <td>NaN</td>\n",
       "      <td>Proprietar</td>\n",
       "      <td>140 m²</td>\n",
       "      <td>2018-05-23</td>\n",
       "      <td>55000€</td>\n",
       "      <td>Casa noua la cheie in cartier Tineretului , zona buna , usor accesibila din strada Clujului la 200 m de asfalt.</td>\n",
       "      <td>Vand Casa la cheie -teren 500mp</td>\n",
       "      <td>https://www.olx.ro/oferta/vand-casa-la-cheie-teren-500mp-ID9GRJj.html</td>\n",
       "      <td>2018-02-28</td>\n",
       "      <td>NaN</td>\n",
       "      <td>strada Clujului</td>\n",
       "      <td>tineretului</td>\n",
       "    </tr>\n",
       "  </tbody>\n",
       "</table>\n",
       "</div>"
      ],
      "text/plain": [
       "             nr_anunt  An constructie    Camere Locuinta mobilata / utilata   Oferit de Suprafata utila        date   price                                                                                                             text                            title                                                                    url CohortGroup city inf          str inf   neighb inf\n",
       "Unnamed: 0                                                                                                                                                                                                                                                                                                                                                                                             \n",
       "11884       143203341             NaN  3 camere                         NaN  Proprietar          140 m²  2018-02-28  55000€  Casa noua la cheie in cartier Tineretului , zona buna , usor accesibila din strada Clujului la 200 m de asfalt.  Vand Casa la cheie -teren 500mp  https://www.olx.ro/oferta/vand-casa-la-cheie-teren-500mp-ID9GRJj.html  2018-02-28      NaN  strada Clujului  tineretului\n",
       "12437       143203341             NaN  3 camere                         NaN  Proprietar          140 m²  2018-03-01  55000€  Casa noua la cheie in cartier Tineretului , zona buna , usor accesibila din strada Clujului la 200 m de asfalt.  Vand Casa la cheie -teren 500mp  https://www.olx.ro/oferta/vand-casa-la-cheie-teren-500mp-ID9GRJj.html  2018-02-28      NaN  strada Clujului  tineretului\n",
       "13379       143203341             NaN  3 camere                         NaN  Proprietar          140 m²  2018-03-02  55000€  Casa noua la cheie in cartier Tineretului , zona buna , usor accesibila din strada Clujului la 200 m de asfalt.  Vand Casa la cheie -teren 500mp  https://www.olx.ro/oferta/vand-casa-la-cheie-teren-500mp-ID9GRJj.html  2018-02-28      NaN  strada Clujului  tineretului\n",
       "14643       143203341             NaN  3 camere                         NaN  Proprietar          140 m²  2018-03-04  55000€  Casa noua la cheie in cartier Tineretului , zona buna , usor accesibila din strada Clujului la 200 m de asfalt.  Vand Casa la cheie -teren 500mp  https://www.olx.ro/oferta/vand-casa-la-cheie-teren-500mp-ID9GRJj.html  2018-02-28      NaN  strada Clujului  tineretului\n",
       "15311       143203341             NaN  3 camere                         NaN  Proprietar          140 m²  2018-03-05  55000€  Casa noua la cheie in cartier Tineretului , zona buna , usor accesibila din strada Clujului la 200 m de asfalt.  Vand Casa la cheie -teren 500mp  https://www.olx.ro/oferta/vand-casa-la-cheie-teren-500mp-ID9GRJj.html  2018-02-28      NaN  strada Clujului  tineretului\n",
       "16462       143203341             NaN  3 camere                         NaN  Proprietar          140 m²  2018-03-07  55000€  Casa noua la cheie in cartier Tineretului , zona buna , usor accesibila din strada Clujului la 200 m de asfalt.  Vand Casa la cheie -teren 500mp  https://www.olx.ro/oferta/vand-casa-la-cheie-teren-500mp-ID9GRJj.html  2018-02-28      NaN  strada Clujului  tineretului\n",
       "17165       143203341             NaN  3 camere                         NaN  Proprietar          140 m²  2018-03-08  55000€  Casa noua la cheie in cartier Tineretului , zona buna , usor accesibila din strada Clujului la 200 m de asfalt.  Vand Casa la cheie -teren 500mp  https://www.olx.ro/oferta/vand-casa-la-cheie-teren-500mp-ID9GRJj.html  2018-02-28      NaN  strada Clujului  tineretului\n",
       "18306       143203341             NaN  3 camere                         NaN  Proprietar          140 m²  2018-03-09  55000€  Casa noua la cheie in cartier Tineretului , zona buna , usor accesibila din strada Clujului la 200 m de asfalt.  Vand Casa la cheie -teren 500mp  https://www.olx.ro/oferta/vand-casa-la-cheie-teren-500mp-ID9GRJj.html  2018-02-28      NaN  strada Clujului  tineretului\n",
       "19119       143203341             NaN  3 camere                         NaN  Proprietar          140 m²  2018-03-10  55000€  Casa noua la cheie in cartier Tineretului , zona buna , usor accesibila din strada Clujului la 200 m de asfalt.  Vand Casa la cheie -teren 500mp  https://www.olx.ro/oferta/vand-casa-la-cheie-teren-500mp-ID9GRJj.html  2018-02-28      NaN  strada Clujului  tineretului\n",
       "19889       143203341             NaN  3 camere                         NaN  Proprietar          140 m²  2018-03-11  55000€  Casa noua la cheie in cartier Tineretului , zona buna , usor accesibila din strada Clujului la 200 m de asfalt.  Vand Casa la cheie -teren 500mp  https://www.olx.ro/oferta/vand-casa-la-cheie-teren-500mp-ID9GRJj.html  2018-02-28      NaN  strada Clujului  tineretului\n",
       "63695       143203341             NaN  3 camere                         NaN  Proprietar          140 m²  2018-05-15  55000€  Casa noua la cheie in cartier Tineretului , zona buna , usor accesibila din strada Clujului la 200 m de asfalt.  Vand Casa la cheie -teren 500mp  https://www.olx.ro/oferta/vand-casa-la-cheie-teren-500mp-ID9GRJj.html  2018-02-28      NaN  strada Clujului  tineretului\n",
       "64646       143203341             NaN  3 camere                         NaN  Proprietar          140 m²  2018-05-16  55000€  Casa noua la cheie in cartier Tineretului , zona buna , usor accesibila din strada Clujului la 200 m de asfalt.  Vand Casa la cheie -teren 500mp  https://www.olx.ro/oferta/vand-casa-la-cheie-teren-500mp-ID9GRJj.html  2018-02-28      NaN  strada Clujului  tineretului\n",
       "65866       143203341             NaN  3 camere                         NaN  Proprietar          140 m²  2018-05-17  55000€  Casa noua la cheie in cartier Tineretului , zona buna , usor accesibila din strada Clujului la 200 m de asfalt.  Vand Casa la cheie -teren 500mp  https://www.olx.ro/oferta/vand-casa-la-cheie-teren-500mp-ID9GRJj.html  2018-02-28      NaN  strada Clujului  tineretului\n",
       "66942       143203341             NaN  3 camere                         NaN  Proprietar          140 m²  2018-05-18  55000€  Casa noua la cheie in cartier Tineretului , zona buna , usor accesibila din strada Clujului la 200 m de asfalt.  Vand Casa la cheie -teren 500mp  https://www.olx.ro/oferta/vand-casa-la-cheie-teren-500mp-ID9GRJj.html  2018-02-28      NaN  strada Clujului  tineretului\n",
       "68699       143203341             NaN  3 camere                         NaN  Proprietar          140 m²  2018-05-20  55000€  Casa noua la cheie in cartier Tineretului , zona buna , usor accesibila din strada Clujului la 200 m de asfalt.  Vand Casa la cheie -teren 500mp  https://www.olx.ro/oferta/vand-casa-la-cheie-teren-500mp-ID9GRJj.html  2018-02-28      NaN  strada Clujului  tineretului\n",
       "69616       143203341             NaN  3 camere                         NaN  Proprietar          140 m²  2018-05-22  55000€  Casa noua la cheie in cartier Tineretului , zona buna , usor accesibila din strada Clujului la 200 m de asfalt.  Vand Casa la cheie -teren 500mp  https://www.olx.ro/oferta/vand-casa-la-cheie-teren-500mp-ID9GRJj.html  2018-02-28      NaN  strada Clujului  tineretului\n",
       "70153       143203341             NaN  3 camere                         NaN  Proprietar          140 m²  2018-05-23  55000€  Casa noua la cheie in cartier Tineretului , zona buna , usor accesibila din strada Clujului la 200 m de asfalt.  Vand Casa la cheie -teren 500mp  https://www.olx.ro/oferta/vand-casa-la-cheie-teren-500mp-ID9GRJj.html  2018-02-28      NaN  strada Clujului  tineretului"
      ]
     },
     "execution_count": 53,
     "metadata": {},
     "output_type": "execute_result"
    }
   ],
   "source": [
    "data[data[\"str inf\"] == \"strada Clujului\"]"
   ]
  },
  {
   "cell_type": "code",
   "execution_count": 5,
   "metadata": {
    "scrolled": false
   },
   "outputs": [
    {
     "data": {
      "text/plain": [
       "array(['strada Izvorului', 'strada Iuliu Maniu', 'str Horea',\n",
       "       'Calea Aradului', 'strada Avram Iancu', 'Calea Clujului',\n",
       "       'str Făcliei', 'strada Romanitei', 'str Facliei', 'strada Oasului',\n",
       "       'str Ady Endre', 'strada Roman Ciorogariu', 'Str Closca',\n",
       "       'str Mihai Eminescu', 'str Mestesugarilor', 'strada Plantelor',\n",
       "       'str Gheorghe Doja', 'strada Liszt Ferenc', 'str Caprioarei',\n",
       "       'strada bartok bela', 'str Hack Halasi Gyula', 'strada Razboieni',\n",
       "       'str Branului', 'str Closca', 'Strada Traian',\n",
       "       'str Piatra Craiului', 'Str cramei', 'str Eftimie Murgu',\n",
       "       'str Elanului', 'Strada artarilor', 'strada Plaiului',\n",
       "       'str Adevarului', 'str Rovine', 'str Roman Ciorogariu',\n",
       "       'strada Ion Bogdan', 'strada Gala Galaction',\n",
       "       'strada Gheorghe Doja', 'strada prislopului', 'str Sarmisegetuza',\n",
       "       'strada Stupilor', 'Str Caisilor', 'str nojoridului',\n",
       "       'str Aurel Lazar', 'Str Facliei', 'Strada Clujului',\n",
       "       'strada tileagdului', 'str Seleusului', 'Str Strugurilor',\n",
       "       'strada Coziei', 'str Pescarusului', 'str Sucevei', 'str Iasomiei',\n",
       "       'str Leaganului', 'strada Maciesului', 'Str Sinaia',\n",
       "       'Str Branului', 'strada Nojoridului', 'str Olteniei',\n",
       "       'strada Tabacarilor', 'strada Branului', 'str Crinului',\n",
       "       'strada Camil Petrescu', 'str Paleului', 'strada Ingusta',\n",
       "       'strada Horea', 'str Paun Pinciu', 'strada Mihai Eminescu',\n",
       "       'strada Muntele Gaina', 'str Republicii', 'strada Piersicilor',\n",
       "       'str Delavrancea', 'Str Clujului', 'str Renasterii',\n",
       "       'str Olimpiadei', 'str Depoului', 'str Odessei',\n",
       "       'str Raspantiilor', 'str Padurii', 'strada Macului',\n",
       "       'Strada Frasinului', 'Str Tuberozelor', 'strada Teiului',\n",
       "       'str Crisan', 'strada Seleusului', 'Str Matei Corvin',\n",
       "       'strada Jokai Mor', 'calea santandrei', 'strada Cuza Voda',\n",
       "       'str plaiului', 'strada Alexandru Donici', 'strada izvorului',\n",
       "       'str Piersicilor', 'str Matei Corvin', 'Calea Santandrei',\n",
       "       'strada gheorghe doja', 'strada Arinului', 'Strada Miron Pompiliu',\n",
       "       'strada Olimpiadei', 'Str Avantului', 'Strada Nojoridului',\n",
       "       'strada Tudor Vladimirescu', 'str Tiglarilor', 'strada Tepes Voda',\n",
       "       'Strada Narciselor', 'str Coziei', 'strada Veteranilor',\n",
       "       'str Emil Isac', 'strada aluminei', 'strada Sucevei',\n",
       "       'strada Privighetorii', 'str Iosif Vulcan', 'strada Iasomiei',\n",
       "       'strada Delavrancea', 'strada Ciresilor', 'strada Petofi Sandor',\n",
       "       'strada Otelarilor', 'str George Cosbuc',\n",
       "       'strada Corneliu Sdrehus', 'str Almasului', 'strada Strugurilor',\n",
       "       'str Nojoridului', 'str Cuza Voda', 'strada louis pasteur',\n",
       "       'str Ecaterina Teodoroiu', 'strada Prepelitei',\n",
       "       'strada Tileagdului', 'strada Aluminei', 'str mihai eminescu',\n",
       "       'str Petru Rares', 'StradaTuberozelor', 'str Caisilor',\n",
       "       'strada Clujului', 'str HACK HALASI GYULA', 'strada Bihorului',\n",
       "       'Strada Scoalelor', 'Str Soarelui', 'str Stelutei',\n",
       "       'strada Piatra Craiului', 'calea aradului', 'strada Odesei',\n",
       "       'str Rectorului', 'str Veteranilor', 'str Bihorului',\n",
       "       'str Aviatorilor', 'str BEGA', 'strada Clopoteilor',\n",
       "       'Str Roman Ciorogariu', 'str Janus Pannonius', 'strada Narciselor',\n",
       "       'str Vladeasa', 'strada Americii', 'str Velenta',\n",
       "       'Strada Primariei', 'Str Gheorghe Doja', 'strada Cedrilor',\n",
       "       'strada Baraganului', 'Strada Olimpiadei', 'Str mestesugarilor',\n",
       "       'Strada Ady Endre', 'Str Seleusului', 'str Stefan cel Mare',\n",
       "       'strada Tuberozelor', 'strada Castanilor',\n",
       "       'strada Timotei Cipariu', 'strada Primariei', 'str Ciheiului',\n",
       "       'strada Republicii', 'strada Frasinului',\n",
       "       'str Emilian Mircea Chitul', 'str Bistritei', 'str Colinelor',\n",
       "       'strada Olteniei', 'Strada George Cosbuc', 'Str Radu Enescu',\n",
       "       'strada Bulgarilor', 'strada Nicolae Jiga', 'strada Barcaului',\n",
       "       'str Primariei', 'str Lunga', 'str Episcop Ioan Alexi',\n",
       "       'str Tudor Vladimirescu', 'str Romer Floris', 'str Izvorului',\n",
       "       'strada Artarilor', 'strada Louis Pasteur', 'str Vasile Lucaciu',\n",
       "       'str ADY ENDRE', 'strada iuliu maniu', 'strada Verii',\n",
       "       'strada Caisilor', 'strada Podgoriei', 'str Sintezei',\n",
       "       'strada plaiului', 'str Secarei', 'str Alexandru Pele',\n",
       "       'str Prunilor', 'calea clujului', 'str Samuil Micu Klein',\n",
       "       'strada Ady Endre', 'strada Episcop Mihai Pavel', 'str Mediasului',\n",
       "       'Str Sucevei', 'strada GHEORGHE DOJA', 'str Lugojului',\n",
       "       'strada Bradului', 'str Zarandului', 'str Privighetorii',\n",
       "       'strada parangului', 'strada Matei Corvin', 'str prunilor',\n",
       "       'str Campului', 'strada Barbu Stefanescu Delavrancea',\n",
       "       'strada Cardinal Iuliu Hossu', 'strada Alexandru Papiu Ilarian',\n",
       "       'str Maslinului', 'str Leonardo Da Vinci', 'str Stefan Zweig',\n",
       "       'strada Alexandru Vlahuta', 'str CAPRIOAREI', 'calea Clujului',\n",
       "       'str navigatorilor', 'str Plaiului'], dtype=object)"
      ]
     },
     "execution_count": 5,
     "metadata": {},
     "output_type": "execute_result"
    }
   ],
   "source": [
    "addresses = data[data[\"city inf\"].isnull()][\"str inf\"].unique()[1:]\n",
    "addresses"
   ]
  },
  {
   "cell_type": "code",
   "execution_count": 6,
   "metadata": {},
   "outputs": [],
   "source": [
    "address_coords = {}"
   ]
  },
  {
   "cell_type": "code",
   "execution_count": 7,
   "metadata": {},
   "outputs": [],
   "source": [
    "k = fastkml.KML()"
   ]
  },
  {
   "cell_type": "code",
   "execution_count": 8,
   "metadata": {},
   "outputs": [],
   "source": [
    "k.from_string(open(\"../Cartiere.kml\", \"rb\").read())"
   ]
  },
  {
   "cell_type": "code",
   "execution_count": 9,
   "metadata": {},
   "outputs": [
    {
     "data": {
      "text/plain": [
       "27"
      ]
     },
     "execution_count": 9,
     "metadata": {},
     "output_type": "execute_result"
    }
   ],
   "source": [
    "len(list(list(list(k.features())[0].features())[0].features()))\n"
   ]
  },
  {
   "cell_type": "code",
   "execution_count": 10,
   "metadata": {},
   "outputs": [],
   "source": [
    "coder = geopy.geocoders.Nominatim(user_agent=\"rolisz\")"
   ]
  },
  {
   "cell_type": "code",
   "execution_count": 11,
   "metadata": {},
   "outputs": [
    {
     "name": "stdout",
     "output_type": "stream",
     "text": [
      "strada bartok bela\n",
      "Strada Traian\n",
      "str Sarmisegetuza\n",
      "Strada Clujului\n",
      "str Paun Pinciu\n",
      "Str Clujului\n",
      "strada Veteranilor\n",
      "strada Corneliu Sdrehus\n",
      "StradaTuberozelor\n",
      "strada Clujului\n",
      "strada Odesei\n",
      "str Veteranilor\n",
      "str Stefan cel Mare\n",
      "str Episcop Ioan Alexi\n",
      "strada Podgoriei\n"
     ]
    }
   ],
   "source": [
    "for a in addresses:\n",
    "    res = coder.geocode(a +\" Oradea\")\n",
    "    if res is None:\n",
    "        print(a)\n",
    "        continue\n",
    "    address_coords[a] = shapely.geometry.Point(res.longitude, res.latitude)"
   ]
  },
  {
   "cell_type": "code",
   "execution_count": 12,
   "metadata": {},
   "outputs": [],
   "source": [
    "addres_neighb = {}"
   ]
  },
  {
   "cell_type": "code",
   "execution_count": 13,
   "metadata": {},
   "outputs": [
    {
     "name": "stdout",
     "output_type": "stream",
     "text": [
      "not found str Lugojului\n",
      "not found str Leaganului\n",
      "not found Calea Santandrei\n",
      "not found calea santandrei\n",
      "not found str Ciheiului\n"
     ]
    }
   ],
   "source": [
    "for a in address_coords:\n",
    "    for feat in list(list(list(k.features())[0].features())[0].features()):\n",
    "        if feat.geometry.contains(address_coords[a]):\n",
    "            addres_neighb[a] = feat.name.strip()\n",
    "            break\n",
    "    else:\n",
    "        print(\"not found\", a)"
   ]
  },
  {
   "cell_type": "code",
   "execution_count": 14,
   "metadata": {},
   "outputs": [],
   "source": [
    "addres_neighb[\"calea santandrei\"] = \"Calea Santandrei\"\n",
    "addres_neighb[\"strada Ion Bogdan\"] = \"Oncea\"\n",
    "addres_neighb[\"str Matei Corvin\"] = \"Episcopia\"\n",
    "addres_neighb[\"str.Matei Corvin\"] = \"Episcopia\"\n",
    "addres_neighb[\"str. Leaganului\"] = \"Olosig\"\n",
    "addres_neighb[\"strada Matei Corvin\"] = \"Episcopia\"\n",
    "addres_neighb[\"Str. Matei Corvin\"] = \"Episcopia\"\n",
    "addres_neighb[\"str Ciheiului\"] = \"Nufarul\"\n",
    "addres_neighb[\"str. Lugojului\"] = \"Dorobantilor\"\n",
    "addres_neighb[\"Calea Santandrei\"] = \"Calea Santandrei\"\n",
    "addres_neighb[\"strada bartok bela\"] = \"Nicolae Iorga\"\n",
    "addres_neighb[\"Strada Traian\"] = \"Orasul Nou\"\n",
    "addres_neighb[\"str Sarmisegetuza\"] = \"Calea Aradului\"\n",
    "addres_neighb[\"str.Clujului\"] = \"Tokai\"\n",
    "addres_neighb[\"str. Paun Pinciu\"] = \"Oncea\"\n",
    "addres_neighb[\"Str. Clujului\"] = \"Dragos Voda\"\n",
    "addres_neighb[\"strada Veteranilor\"] = \"Iosia\"\n",
    "addres_neighb[\"StradaTuberozelor\"] = \"Orasul Nou\"\n",
    "addres_neighb[\"strada Clujului\"] = \"Tokai\"\n",
    "addres_neighb[\"str Veteranilor\"] = \"Iosia\"\n",
    "addres_neighb[\"str. Stefan cel Mare\"] = \"Rogerius\"\n",
    "addres_neighb[\"str. Episcop Ioan Alexi\"] = \"Episcopia\"\n",
    "addres_neighb[\"strada Podgoriei\"] = \"Podgoria\"\n",
    "addres_neighb[\"str.Jean Sandulescu\"] = \"Grigorescu\"\n",
    "addres_neighb[\"strada Corneliu Sdrehus\"] = \"Grigorescu\""
   ]
  },
  {
   "cell_type": "code",
   "execution_count": 15,
   "metadata": {},
   "outputs": [
    {
     "data": {
      "text/plain": [
       "array(['oncea', 'ultracentral', 'Decebal', 'primariei', 'grigorescu',\n",
       "       'horea', 'centrala', 'episcopia', 'tineretului', 'Balcescu',\n",
       "       'muntele găina', 'iosia', 'Calea Clujului', 'semicentrala',\n",
       "       'nufarul', 'rogerius', 'garii', 'eminescu', 'doja', 'cantemir',\n",
       "       'horia', 'Doja', 'piata devei', 'decebal', 'velenta',\n",
       "       'spitalul judetean', 'ioșia', 'dealuri', 'Oncea', 'ultra central',\n",
       "       'Gheorghe Doja', 'armatei romane', 'Dimitrie Cantemir', 'balcescu',\n",
       "       'Horea', 'Tineretului', 'splaiul crisanei', 'era', 'gheorghe doja',\n",
       "       'Cantemir', 'parcului bratianu', 'calea clujului', 'Grigorescu',\n",
       "       'garii centrale', 'clujului', 'crisan', 'dimitrie cantemir',\n",
       "       'DECEBAL', 'Nufarul', 'Centrala'], dtype=object)"
      ]
     },
     "execution_count": 15,
     "metadata": {},
     "output_type": "execute_result"
    }
   ],
   "source": [
    "neighb = data[\"neighb inf\"].unique()[1:]\n",
    "neighb\n"
   ]
  },
  {
   "cell_type": "code",
   "execution_count": 16,
   "metadata": {},
   "outputs": [],
   "source": [
    "neighb_map = {'ultracentral': \"Orasul Nou\", 'primariei': \"Orasul Nou\", \"horea\": \"Dorobantilor\",\n",
    "              'centrala': \"Olosig\", 'tineretului': \"Velenta\", 'muntele găina,': \"Dimitrie Cantemir\",\n",
    "       'semicentrala':\"Olosig\", 'garii': \"Rogerius\", 'eminescu': \"Mihai Eminescu\", 'doja': \"Gheorghe Doja\",\n",
    "       'cantemir': \"Dimitrie Cantemir\", 'horia': \"Dorobantilor\", 'episcopia bihor': \"Episcopia\",\n",
    "              'piata devei': \"Iosia\", 'decebal': \"Decebal Dacia\", 'spitalul judetean': \"Gheorghe Doja\",\n",
    "            'dealuri': \"Gheorghe Doja\", 'calea clujului': \"Tokai\", 'ultra central': \"Orasul Nou\",\n",
    "              'pieței i. creanga': \"Olosig\", 'h. ipsen': \"Iosia\", 'armatei romane': \"Dorobantilor\", \n",
    "              'balcescu': \"Calea Santandrei\", \"Centrala\": \"Olosig\", \"Tineretului\": \"Tokai\",\n",
    "       'bazilicii romano-catolice': \"Olosig\", 'era': \"Calea Santandrei\", \"Balcescu\": \"Calea Aradului\",\n",
    "              \"Decebal\": \"Decebal Dacia\", \"Doja\": \"Gheorghe Doja\", \"Cantemir\": \"Dimitrie Cantemir\", \n",
    "              \"Ioșia\": \"Iosia\", \"Muntele Găina\": \"Dimitrie Cantemir\", \"Calea Clujului\": \"Tokai\",\n",
    "              \"Horea\": \"Dorobantilor\",\n",
    "       'parcului bratianu':\"Olosig\", 'gh. doja': \"Gheorghe Doja\", 'garii centrale':\"Rogerius\", 'clujului': \"Tokai\",\n",
    "       'bancpost': \"Orasul Nou\", 'crisan': \"Dorobantilor\"}"
   ]
  },
  {
   "cell_type": "code",
   "execution_count": 17,
   "metadata": {},
   "outputs": [],
   "source": [
    "def get_nb(row):\n",
    "    st = row[\"str inf\"]\n",
    "    nb = row[\"neighb inf\"]\n",
    "    neighborhood = \"\"\n",
    "    if st in addres_neighb:\n",
    "        neighborhood = addres_neighb[st]\n",
    "    if type(nb) == str:\n",
    "        if nb in neighb_map:\n",
    "            if neighborhood == neighb_map[nb]:\n",
    "                return neighborhood\n",
    "            else:\n",
    "                return neighb_map[nb]\n",
    "        if nb.title() in neighb_map:\n",
    "            return neighb_map[nb.title()]\n",
    "        if nb.title() == neighborhood:\n",
    "            return neighborhood\n",
    "        else:\n",
    "            return nb.title()\n",
    "    return neighborhood"
   ]
  },
  {
   "cell_type": "code",
   "execution_count": 18,
   "metadata": {},
   "outputs": [],
   "source": [
    "data[\"Neighborhood\"] = data.apply(get_nb, axis=1)\n"
   ]
  },
  {
   "cell_type": "code",
   "execution_count": 19,
   "metadata": {},
   "outputs": [],
   "source": [
    "def convert_price(prc):\n",
    "    if prc[-1] == \"€\":\n",
    "        return float(prc[:-1])\n",
    "    elif prc[-3:] == \"lei\":\n",
    "        return float(prc[:-3])/4.5\n",
    "    elif prc == \"Schimb\":\n",
    "        return -1\n",
    "    return prc"
   ]
  },
  {
   "cell_type": "code",
   "execution_count": 20,
   "metadata": {},
   "outputs": [],
   "source": [
    "data[\"price\"] = data[\"price\"].apply(convert_price)"
   ]
  },
  {
   "cell_type": "code",
   "execution_count": 21,
   "metadata": {},
   "outputs": [
    {
     "data": {
      "text/plain": [
       "'Decebal'"
      ]
     },
     "execution_count": 21,
     "metadata": {},
     "output_type": "execute_result"
    }
   ],
   "source": [
    "\"DECEBAL\".title()"
   ]
  },
  {
   "cell_type": "code",
   "execution_count": 22,
   "metadata": {},
   "outputs": [
    {
     "data": {
      "text/plain": [
       "(55843, 16)"
      ]
     },
     "execution_count": 22,
     "metadata": {},
     "output_type": "execute_result"
    }
   ],
   "source": [
    "data[(data[\"city inf\"].isnull()) & (\"Neighborhood\" != \"\")].shape"
   ]
  },
  {
   "cell_type": "code",
   "execution_count": 23,
   "metadata": {},
   "outputs": [],
   "source": [
    "nb_data = data[(data[\"city inf\"].isnull()) & (data[\"Neighborhood\"] != \"\") & (data[\"price\"] > 0)].groupby('text').first()"
   ]
  },
  {
   "cell_type": "code",
   "execution_count": 24,
   "metadata": {},
   "outputs": [],
   "source": [
    "means = nb_data.groupby(\"Neighborhood\")[\"price\"].mean()"
   ]
  },
  {
   "cell_type": "code",
   "execution_count": 25,
   "metadata": {},
   "outputs": [
    {
     "data": {
      "text/plain": [
       "<matplotlib.axes._subplots.AxesSubplot at 0x7f15a2a90f60>"
      ]
     },
     "execution_count": 25,
     "metadata": {},
     "output_type": "execute_result"
    },
    {
     "data": {
      "image/png": "[encoded data removed]",
      "text/plain": [
       "<Figure size 432x288 with 1 Axes>"
      ]
     },
     "metadata": {},
     "output_type": "display_data"
    }
   ],
   "source": [
    "means.plot(kind='bar')"
   ]
  },
  {
   "cell_type": "code",
   "execution_count": 33,
   "metadata": {},
   "outputs": [
    {
     "data": {
      "image/png": "[encoded data removed]",
      "text/plain": [
       "<Figure size 1800x1152 with 1 Axes>"
      ]
     },
     "metadata": {},
     "output_type": "display_data"
    }
   ],
   "source": [
    "plt.figure(figsize=(25,16))\n",
    "plot = sns.barplot(data=nb_data, x=\"Neighborhood\", y=\"price\")\n",
    "for item in plot.get_yticklabels():\n",
    "    item.set_fontsize(18)\n",
    "for item in plot.get_xticklabels():\n",
    "    item.set_rotation(90)\n",
    "    item.set_fontsize(18)"
   ]
  },
  {
   "cell_type": "code",
   "execution_count": 34,
   "metadata": {},
   "outputs": [
    {
     "data": {
      "image/png": "[encoded data removed]",
      "text/plain": [
       "<Figure size 1800x1152 with 1 Axes>"
      ]
     },
     "metadata": {},
     "output_type": "display_data"
    }
   ],
   "source": [
    "plt.figure(figsize=(25,16))\n",
    "\n",
    "plot = sns.countplot(data=nb_data, x=\"Neighborhood\")\n",
    "for item in plot.get_yticklabels():\n",
    "    item.set_fontsize(18)\n",
    "for item in plot.get_xticklabels():\n",
    "    item.set_rotation(90)\n",
    "    item.set_fontsize(18)"
   ]
  },
  {
   "cell_type": "code",
   "execution_count": null,
   "metadata": {},
   "outputs": [],
   "source": []
  }
 ],
 "metadata": {
  "kernelspec": {
   "display_name": "Python 3",
   "language": "python",
   "name": "python3"
  },
  "language_info": {
   "codemirror_mode": {
    "name": "ipython",
    "version": 3
   },
   "file_extension": ".py",
   "mimetype": "text/x-python",
   "name": "python",
   "nbconvert_exporter": "python",
   "pygments_lexer": "ipython3",
   "version": "3.5.2"
  }
 },
 "nbformat": 4,
 "nbformat_minor": 2
}
